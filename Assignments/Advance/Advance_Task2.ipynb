{
  "nbformat": 4,
  "nbformat_minor": 0,
  "metadata": {
    "colab": {
      "provenance": []
    },
    "kernelspec": {
      "name": "python3",
      "display_name": "Python 3"
    },
    "language_info": {
      "name": "python"
    }
  },
  "cells": [
    {
      "cell_type": "markdown",
      "source": [
        "# **Defanging an IP Address**\n",
        "https://leetcode.com/problems/defanging-an-ip-address/"
      ],
      "metadata": {
        "id": "Tu-v1rctRpd_"
      }
    },
    {
      "cell_type": "code",
      "execution_count": null,
      "metadata": {
        "id": "8RvbhWULMrkm"
      },
      "outputs": [],
      "source": [
        "def defangIPaddr(self, address: str) -> str:\n",
        "    return \"[.]\".join(address.split(\".\"))"
      ]
    },
    {
      "cell_type": "markdown",
      "source": [
        "# **Find Numbers with Even Number of Digits**\n",
        "https://leetcode.com/problems/find-numbers-with-even-number-of-digits/"
      ],
      "metadata": {
        "id": "0QyPDph-SOQy"
      }
    },
    {
      "cell_type": "code",
      "source": [
        "def findNumbers(self, nums: List[int]) -> int:\n",
        "    count = 0 \n",
        "    for i in nums:\n",
        "        if len(str(i))%2 ==0:\n",
        "            count += 1\n",
        "    return count"
      ],
      "metadata": {
        "id": "HsoVcjJxSOyk"
      },
      "execution_count": null,
      "outputs": []
    },
    {
      "cell_type": "markdown",
      "source": [
        "# **Number of Good Pairs**\n",
        "https://leetcode.com/problems/number-of-good-pairs/"
      ],
      "metadata": {
        "id": "u9nUBnZZSPNp"
      }
    },
    {
      "cell_type": "code",
      "source": [
        "def numIdenticalPairs(self, nums: List[int]) -> int:\n",
        "    pair = 0\n",
        "    for i in range(len(nums)):\n",
        "        for j in range(i+1,len(nums)):\n",
        "            if nums[i] == nums[j] :\n",
        "                pair += 1\n",
        "    return pair"
      ],
      "metadata": {
        "id": "98qb96LMSQgZ"
      },
      "execution_count": null,
      "outputs": []
    },
    {
      "cell_type": "markdown",
      "source": [
        "# **How Many Numbers Are Smaller Than the Current Number**\n",
        "https://leetcode.com/problems/how-many-numbers-are-smaller-than-the-current-number/"
      ],
      "metadata": {
        "id": "N_uXcp-wSbkL"
      }
    },
    {
      "cell_type": "code",
      "source": [
        "def smallerNumbersThanCurrent(self, nums: List[int]) -> List[int]:\n",
        "    out = []\n",
        "    for i in range(len(nums)):\n",
        "        flag = 0\n",
        "        for j in range(len(nums)):\n",
        "            if nums[i] > nums[j] :\n",
        "                flag += 1\n",
        "        out.append(flag)\n",
        "    return out"
      ],
      "metadata": {
        "id": "hsxbKShVScSt"
      },
      "execution_count": null,
      "outputs": []
    },
    {
      "cell_type": "markdown",
      "source": [
        "# **Subtract the Product and Sum of Digits of an Integer**\n",
        "https://leetcode.com/problems/subtract-the-product-and-sum-of-digits-of-an-integer/"
      ],
      "metadata": {
        "id": "GPKPjqPXSeAI"
      }
    },
    {
      "cell_type": "code",
      "source": [
        "def subtractProductAndSum(self, n: int) -> int:\n",
        "    pro = 1\n",
        "    sum = 0\n",
        "    for i in str(n):\n",
        "        pro *= int(i)\n",
        "        sum += int(i)\n",
        "    return pro-sum"
      ],
      "metadata": {
        "id": "uWpabwVaSyhP"
      },
      "execution_count": null,
      "outputs": []
    },
    {
      "cell_type": "markdown",
      "source": [
        "# **XOR Operation in an Array**\n",
        "https://leetcode.com/problems/xor-operation-in-an-array/"
      ],
      "metadata": {
        "id": "ngG2KOxsSzF6"
      }
    },
    {
      "cell_type": "code",
      "source": [
        "def xorOperation(self, n: int, start: int) -> int:\n",
        "    arr = [int(2*i)+start for i in range(n)]\n",
        "    out = arr[0]\n",
        "    if n>=2 :\n",
        "        for i in range(1,n):\n",
        "            out = out ^ arr[i]\n",
        "    return out"
      ],
      "metadata": {
        "id": "kb1dGMToS3E2"
      },
      "execution_count": null,
      "outputs": []
    }
  ]
}