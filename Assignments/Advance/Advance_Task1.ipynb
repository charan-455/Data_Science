{
  "nbformat": 4,
  "nbformat_minor": 0,
  "metadata": {
    "colab": {
      "provenance": []
    },
    "kernelspec": {
      "name": "python3",
      "display_name": "Python 3"
    },
    "language_info": {
      "name": "python"
    }
  },
  "cells": [
    {
      "cell_type": "markdown",
      "source": [
        "# **Running Sum of 1d Array**\n",
        "https://leetcode.com/problems/running-sum-of-1d-array/"
      ],
      "metadata": {
        "id": "b9M6_eOyMxsS"
      }
    },
    {
      "cell_type": "code",
      "source": [
        "def runningSum(self, nums: List[int]) -> List[int]:\n",
        "    out = []\n",
        "    for i in range(len(nums)):\n",
        "        out.append(sum(nums[:i+1]))\n",
        "    return out"
      ],
      "metadata": {
        "id": "IwjsTmdbP_lX"
      },
      "execution_count": null,
      "outputs": []
    },
    {
      "cell_type": "markdown",
      "source": [
        "# **Shuffle the Array**\n",
        "https://leetcode.com/problems/kids-with-the-greatest-number-of-candies/"
      ],
      "metadata": {
        "id": "WxhuGsX2NI2B"
      }
    },
    {
      "cell_type": "code",
      "source": [
        "def shuffle(self, nums: List[int], n: int) -> List[int]:\n",
        "    out = []\n",
        "    for i in range(len(nums)//2):\n",
        "        j = i + n\n",
        "        out.append(nums[i])\n",
        "        out.append(nums[j])\n",
        "    return out"
      ],
      "metadata": {
        "id": "Drwl2sWeM58A"
      },
      "execution_count": null,
      "outputs": []
    },
    {
      "cell_type": "markdown",
      "source": [
        "# **Kids With the Greatest Number of Candies**\n",
        "\n",
        "https://leetcode.com/problems/shuffle-the-array/"
      ],
      "metadata": {
        "id": "Xzt3024GNVSV"
      }
    },
    {
      "cell_type": "code",
      "source": [
        "def kidsWithCandies(self, candies: List[int], extraCandies: int) -> List[bool]:\n",
        "    out = []\n",
        "    maxi = max(candies)\n",
        "    for i in candies:\n",
        "        if i+extraCandies >= maxi :\n",
        "            out.append(True)\n",
        "        else:\n",
        "            out.append(False)\n",
        "    return out"
      ],
      "metadata": {
        "id": "PrMwnrdhOvA7"
      },
      "execution_count": null,
      "outputs": []
    }
  ]
}