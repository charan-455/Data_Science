{
  "nbformat": 4,
  "nbformat_minor": 0,
  "metadata": {
    "colab": {
      "provenance": []
    },
    "kernelspec": {
      "name": "python3",
      "display_name": "Python 3"
    },
    "language_info": {
      "name": "python"
    }
  },
  "cells": [
    {
      "cell_type": "markdown",
      "source": [
        "# **Single Number**\n",
        "https://leetcode.com/problems/single-number/"
      ],
      "metadata": {
        "id": "-arnR276Q4bl"
      }
    },
    {
      "cell_type": "code",
      "execution_count": null,
      "metadata": {
        "id": "zba7M4P5Qb4Q"
      },
      "outputs": [],
      "source": [
        "def singleNumber(self, nums: List[int]) -> int:\n",
        "    s = set(nums)\n",
        "    for i in s:\n",
        "        if nums.count(i) == 1 :\n",
        "            return i"
      ]
    },
    {
      "cell_type": "markdown",
      "source": [
        "# **Sort Integers by The Number of 1 Bits**\n",
        "https://leetcode.com/problems/sort-integers-by-the-number-of-1-bits/"
      ],
      "metadata": {
        "id": "DE2nP_5MRC2G"
      }
    },
    {
      "cell_type": "code",
      "source": [
        "def sortByBits(self, arr: List[int]) -> List[int]:\n",
        "    dic={}\n",
        "    out = []\n",
        "    for i in sorted(arr):\n",
        "        temp = bin(i).count(\"1\")\n",
        "        if temp not in dic:\n",
        "            dic[temp] = [i]\n",
        "        else:\n",
        "            dic[temp].append(i)\n",
        "    for i in sorted(dic.keys()):\n",
        "        out.extend(dic[i])\n",
        "    return out"
      ],
      "metadata": {
        "id": "Tr1chaKdRGA_"
      },
      "execution_count": null,
      "outputs": []
    },
    {
      "cell_type": "markdown",
      "source": [
        "# **Single Number III**\n",
        "https://leetcode.com/problems/single-number-iii/"
      ],
      "metadata": {
        "id": "uSnLL6rHRGo0"
      }
    },
    {
      "cell_type": "code",
      "source": [
        "def singleNumber(self, nums: List[int]) -> List[int]:\n",
        "    a=list(set(nums))\n",
        "    for i in a:\n",
        "        nums.remove(i)\n",
        "    return set(a)-set(nums)"
      ],
      "metadata": {
        "id": "e2HZwxx-RNwU"
      },
      "execution_count": null,
      "outputs": []
    },
    {
      "cell_type": "markdown",
      "source": [
        "# **`Subsets`**\n",
        "https://leetcode.com/problems/subsets/"
      ],
      "metadata": {
        "id": "Vm1_63iBRQau"
      }
    },
    {
      "cell_type": "code",
      "source": [
        "def subsets(self, nums: List[int]) -> List[List[int]]:\n",
        "    if len(nums)==1:\n",
        "        return [[],nums]\n",
        "    else:\n",
        "        power_set=[[]]\n",
        "        for elem in nums:\n",
        "            for sub_set in power_set:\n",
        "                power_set=power_set+[list(sub_set)+[elem]]\n",
        "    return power_set"
      ],
      "metadata": {
        "id": "Wm1O5HxlRcay"
      },
      "execution_count": null,
      "outputs": []
    }
  ]
}