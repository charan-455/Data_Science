{
  "nbformat": 4,
  "nbformat_minor": 0,
  "metadata": {
    "colab": {
      "provenance": []
    },
    "kernelspec": {
      "name": "python3",
      "display_name": "Python 3"
    },
    "language_info": {
      "name": "python"
    }
  },
  "cells": [
    {
      "cell_type": "markdown",
      "source": [
        "# **`Subsets`**\n",
        "https://leetcode.com/problems/subsets/submissions/907293012/"
      ],
      "metadata": {
        "id": "vI4cfKr2Y6Eo"
      }
    },
    {
      "cell_type": "code",
      "execution_count": null,
      "metadata": {
        "id": "qRgVxhjmQoOh"
      },
      "outputs": [],
      "source": [
        "def subsets(self, nums: List[int]) -> List[List[int]]:\n",
        "    if len(nums)==1:\n",
        "        return [[],nums]\n",
        "    else:\n",
        "        power_set=[[]]\n",
        "        for elem in nums:\n",
        "            for sub_set in power_set:\n",
        "                power_set=power_set+[list(sub_set)+[elem]]\n",
        "    return power_set"
      ]
    },
    {
      "cell_type": "markdown",
      "source": [
        "# **Hamming Distance**\n",
        "https://leetcode.com/problems/hamming-distance/"
      ],
      "metadata": {
        "id": "v6ieldm0Y9MD"
      }
    },
    {
      "cell_type": "code",
      "source": [
        "def hammingDistance(self, x: int, y: int) -> int:\n",
        "    return (bin(x^y)).count('1') "
      ],
      "metadata": {
        "id": "sAwWzIX0ZGfr"
      },
      "execution_count": null,
      "outputs": []
    },
    {
      "cell_type": "markdown",
      "source": [
        "# **Single Number II**\n",
        "https://leetcode.com/problems/single-number-ii/"
      ],
      "metadata": {
        "id": "pnb0wgGIZG7u"
      }
    },
    {
      "cell_type": "code",
      "source": [
        "def singleNumber(self, nums: List[int]) -> int:\n",
        "    for i in set(nums):\n",
        "        if nums.count(i)==1:\n",
        "            return i"
      ],
      "metadata": {
        "id": "_MVhKR9PZHoG"
      },
      "execution_count": null,
      "outputs": []
    }
  ]
}