{
  "nbformat": 4,
  "nbformat_minor": 0,
  "metadata": {
    "colab": {
      "provenance": []
    },
    "kernelspec": {
      "name": "python3",
      "display_name": "Python 3"
    },
    "language_info": {
      "name": "python"
    }
  },
  "cells": [
    {
      "cell_type": "markdown",
      "source": [
        "# **Maximum Product of Two Elements in an Array**\n",
        "https://leetcode.com/problems/maximum-product-of-two-elements-in-an-array/\n"
      ],
      "metadata": {
        "id": "CK13gVlNUrad"
      }
    },
    {
      "cell_type": "code",
      "execution_count": null,
      "metadata": {
        "id": "yk_bgkfpQqb7"
      },
      "outputs": [],
      "source": [
        "def maxProduct(self, nums: List[int]) -> int:\n",
        "    if len(nums) == 2:\n",
        "        return (nums[0]-1)*(nums[1]-1)\n",
        "    else:\n",
        "        m1 = max(nums)\n",
        "        nums.remove(m1)\n",
        "        m2 = max(nums)\n",
        "        return (m1-1)*(m2-1)"
      ]
    },
    {
      "cell_type": "markdown",
      "source": [
        "# **Count Number of Teams**\n",
        "https://leetcode.com/problems/count-number-of-teams/"
      ],
      "metadata": {
        "id": "pGd1LeJlUv5t"
      }
    },
    {
      "cell_type": "code",
      "source": [
        "def numTeams(self, rating: List[int]) -> int:\n",
        "    n, ans = len(rating), 0\n",
        "    for j in range(1, n - 1):\n",
        "        ia = ib = ka = kb = 0\n",
        "        for i in range(j):\n",
        "            if rating[i] < rating[j]:\n",
        "                ia += 1\n",
        "            elif rating[i] > rating[j]:\n",
        "                ib += 1\n",
        "        for k in range(j + 1, n):\n",
        "            if rating[j] < rating[k]:\n",
        "                ka += 1\n",
        "            elif rating[j] > rating[k]:\n",
        "                kb += 1\n",
        "        ans += ia * ka + ib * kb\n",
        "    return ans"
      ],
      "metadata": {
        "id": "oqKrTGExUwvI"
      },
      "execution_count": null,
      "outputs": []
    },
    {
      "cell_type": "markdown",
      "source": [
        "# **Number of Students Doing Homework at a Given Time**\n",
        "https://leetcode.com/problems/number-of-students-doing-homework-at-a-given-time/"
      ],
      "metadata": {
        "id": "Mb-JZ3KKUx5R"
      }
    },
    {
      "cell_type": "code",
      "source": [
        "def busyStudent(self, startTime: List[int], endTime: List[int], queryTime: int) -> int:\n",
        "    count = 0\n",
        "    for i in range(len(startTime )):\n",
        "        if startTime[i] <= queryTime <= endTime[i] :\n",
        "            count +=1\n",
        "    return count"
      ],
      "metadata": {
        "id": "yFr9Ah-wVCAr"
      },
      "execution_count": null,
      "outputs": []
    },
    {
      "cell_type": "markdown",
      "source": [
        "# **Number of Steps to Reduce a Number to Zero**\n",
        "https://leetcode.com/problems/number-of-steps-to-reduce-a-number-to-zero/"
      ],
      "metadata": {
        "id": "VN-OypvVVCim"
      }
    },
    {
      "cell_type": "code",
      "source": [
        "def numberOfSteps(self, num: int) -> int:\n",
        "    flag = 0\n",
        "    while num != 0:\n",
        "        if num%2 == 0:\n",
        "            num = num/2 \n",
        "            flag += 1\n",
        "        elif num%2 !=0 :\n",
        "            num = num-1\n",
        "            flag += 1\n",
        "    return flag"
      ],
      "metadata": {
        "id": "pPV1WWkkVINM"
      },
      "execution_count": null,
      "outputs": []
    },
    {
      "cell_type": "markdown",
      "source": [
        "# **Counting Bits**\n",
        "https://leetcode.com/problems/counting-bits/"
      ],
      "metadata": {
        "id": "WTXBP0AOVIzX"
      }
    },
    {
      "cell_type": "code",
      "source": [
        "def countBits(self, n: int) -> List[int]:\n",
        "    return [ bin(i)[2:].count(\"1\") for i in range(n+1) ]"
      ],
      "metadata": {
        "id": "C0OSTMv5VJ1X"
      },
      "execution_count": null,
      "outputs": []
    }
  ]
}